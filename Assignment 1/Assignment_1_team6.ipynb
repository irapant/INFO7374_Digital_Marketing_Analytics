{
  "nbformat": 4,
  "nbformat_minor": 0,
  "metadata": {
    "colab": {
      "name": "Assignment_1.ipynb",
      "version": "0.3.2",
      "provenance": [],
      "collapsed_sections": []
    },
    "language_info": {
      "codemirror_mode": {
        "name": "ipython",
        "version": 3
      },
      "file_extension": ".py",
      "mimetype": "text/x-python",
      "name": "python",
      "nbconvert_exporter": "python",
      "pygments_lexer": "ipython3",
      "version": "3.7.2"
    },
    "kernelspec": {
      "display_name": "Python 3",
      "language": "python",
      "name": "python3"
    }
  },
  "cells": [
    {
      "cell_type": "code",
      "metadata": {
        "id": "MQ8setYKbf4b",
        "colab_type": "code",
        "colab": {}
      },
      "source": [
        ""
      ],
      "execution_count": 0,
      "outputs": []
    },
    {
      "cell_type": "markdown",
      "metadata": {
        "id": "Lr-3CVPFbkHo",
        "colab_type": "text"
      },
      "source": [
        "Assignment_1 AWS Pipeline Architecture-Team 6\n"
      ]
    },
    {
      "cell_type": "code",
      "metadata": {
        "colab_type": "code",
        "id": "9npeDcNZasY8",
        "colab": {}
      },
      "source": [
        "###INFO7374: Digital Marketing Analytics:\n",
        "###LAB: AWS Mobile Gaming Analytics Pipeline\n",
        "###Date: 06/28/2019\n",
        "###Instructor: Prof. Srikanth Krishnamurthy\n",
        "###TA: Mr. Pramod Nagare and Mr. Syed Haroon"
      ],
      "execution_count": 0,
      "outputs": []
    },
    {
      "cell_type": "code",
      "metadata": {
        "colab_type": "code",
        "id": "FDNxLvBVasZE",
        "colab": {}
      },
      "source": [
        "# Architectural Components:\n",
        "# S3 Bucket: https://aws.amazon.com/s3/\n",
        "# Kinesis Data Stream: https://aws.amazon.com/kinesis/data-streams/\n",
        "# Kinesis Delivery Stream: https://aws.amazon.com/kinesis/data-firehose/\n",
        "# Redshift Cluster: https://aws.amazon.com/redshift/\n",
        "# IAM Policy: https://aws.amazon.com/iam/\n",
        "# IAM Role: https://aws.amazon.com/iam/"
      ],
      "execution_count": 0,
      "outputs": []
    },
    {
      "cell_type": "markdown",
      "metadata": {
        "colab_type": "text",
        "id": "qn515qyYasZI"
      },
      "source": [
        "<img src=\"AWS_GAP_Architecture_New.jpg\">"
      ]
    },
    {
      "cell_type": "code",
      "metadata": {
        "id": "FsZpsBJRxKq5",
        "colab_type": "code",
        "outputId": "ef228c44-5c1a-4ad9-cacc-3979f36d3752",
        "colab": {}
      },
      "source": [
        "!pip install boto3"
      ],
      "execution_count": 0,
      "outputs": [
        {
          "output_type": "stream",
          "text": [
            "Collecting boto3\n",
            "\u001b[?25l  Downloading https://files.pythonhosted.org/packages/3b/6e/8189e561e15eb0def4f3155ab4addf231891b2df2216495fc58a5049af55/boto3-1.9.180-py2.py3-none-any.whl (128kB)\n",
            "\u001b[K    100% |████████████████████████████████| 133kB 5.6MB/s ta 0:00:01\n",
            "\u001b[?25hCollecting s3transfer<0.3.0,>=0.2.0 (from boto3)\n",
            "\u001b[?25l  Downloading https://files.pythonhosted.org/packages/16/8a/1fc3dba0c4923c2a76e1ff0d52b305c44606da63f718d14d3231e21c51b0/s3transfer-0.2.1-py2.py3-none-any.whl (70kB)\n",
            "\u001b[K    100% |████████████████████████████████| 71kB 9.2MB/s eta 0:00:01\n",
            "\u001b[?25hCollecting jmespath<1.0.0,>=0.7.1 (from boto3)\n",
            "  Downloading https://files.pythonhosted.org/packages/83/94/7179c3832a6d45b266ddb2aac329e101367fbdb11f425f13771d27f225bb/jmespath-0.9.4-py2.py3-none-any.whl\n",
            "Collecting botocore<1.13.0,>=1.12.180 (from boto3)\n",
            "\u001b[?25l  Downloading https://files.pythonhosted.org/packages/3b/27/fa7da6feb20d1dfc0ab562226061b20da2d27ea18ca32dc764fe86704a99/botocore-1.12.180-py2.py3-none-any.whl (5.6MB)\n",
            "\u001b[K    100% |████████████████████████████████| 5.6MB 5.4MB/s eta 0:00:01\n",
            "\u001b[?25hRequirement already satisfied: docutils>=0.10 in /Users/ira/anaconda3/lib/python3.7/site-packages (from botocore<1.13.0,>=1.12.180->boto3) (0.14)\n",
            "Requirement already satisfied: python-dateutil<3.0.0,>=2.1; python_version >= \"2.7\" in /Users/ira/anaconda3/lib/python3.7/site-packages (from botocore<1.13.0,>=1.12.180->boto3) (2.7.5)\n",
            "Requirement already satisfied: urllib3<1.26,>=1.20; python_version >= \"3.4\" in /Users/ira/anaconda3/lib/python3.7/site-packages (from botocore<1.13.0,>=1.12.180->boto3) (1.24.1)\n",
            "Requirement already satisfied: six>=1.5 in /Users/ira/anaconda3/lib/python3.7/site-packages (from python-dateutil<3.0.0,>=2.1; python_version >= \"2.7\"->botocore<1.13.0,>=1.12.180->boto3) (1.12.0)\n",
            "Installing collected packages: jmespath, botocore, s3transfer, boto3\n",
            "Successfully installed boto3-1.9.180 botocore-1.12.180 jmespath-0.9.4 s3transfer-0.2.1\n"
          ],
          "name": "stdout"
        }
      ]
    },
    {
      "cell_type": "code",
      "metadata": {
        "id": "V1NkHXD1xKq9",
        "colab_type": "code",
        "outputId": "0225a68c-82a9-43a0-902b-209b7144932a",
        "colab": {}
      },
      "source": [
        "!pip install psycopg2"
      ],
      "execution_count": 0,
      "outputs": [
        {
          "output_type": "stream",
          "text": [
            "Collecting psycopg2\n",
            "\u001b[?25l  Downloading https://files.pythonhosted.org/packages/5c/1c/6997288da181277a0c29bc39a5f9143ff20b8c99f2a7d059cfb55163e165/psycopg2-2.8.3.tar.gz (377kB)\n",
            "\u001b[K    100% |████████████████████████████████| 378kB 11.8MB/s ta 0:00:01\n",
            "\u001b[?25h    Complete output from command python setup.py egg_info:\n",
            "    running egg_info\n",
            "    creating pip-egg-info/psycopg2.egg-info\n",
            "    writing pip-egg-info/psycopg2.egg-info/PKG-INFO\n",
            "    writing dependency_links to pip-egg-info/psycopg2.egg-info/dependency_links.txt\n",
            "    writing top-level names to pip-egg-info/psycopg2.egg-info/top_level.txt\n",
            "    writing manifest file 'pip-egg-info/psycopg2.egg-info/SOURCES.txt'\n",
            "    \n",
            "    Error: pg_config executable not found.\n",
            "    \n",
            "    pg_config is required to build psycopg2 from source.  Please add the directory\n",
            "    containing pg_config to the $PATH or specify the full executable path with the\n",
            "    option:\n",
            "    \n",
            "        python setup.py build_ext --pg-config /path/to/pg_config build ...\n",
            "    \n",
            "    or with the pg_config option in 'setup.cfg'.\n",
            "    \n",
            "    If you prefer to avoid building psycopg2 from source, please install the PyPI\n",
            "    'psycopg2-binary' package instead.\n",
            "    \n",
            "    For further information please check the 'doc/src/install.rst' file (also at\n",
            "    <http://initd.org/psycopg/docs/install.html>).\n",
            "    \n",
            "    \n",
            "    ----------------------------------------\n",
            "\u001b[31mCommand \"python setup.py egg_info\" failed with error code 1 in /private/var/folders/_1/s644103n0_1df6p1l04wbrj80000gn/T/pip-install-vexvaqm8/psycopg2/\u001b[0m\n"
          ],
          "name": "stdout"
        }
      ]
    },
    {
      "cell_type": "code",
      "metadata": {
        "colab_type": "code",
        "id": "rSDSbmswasZJ",
        "colab": {}
      },
      "source": [
        "#Importing all required libraries:\n",
        "#pip install boto3\n",
        "#pip install psycopg2\n",
        "\n",
        "import boto3\n",
        "import json\n",
        "import psycopg2\n",
        "import datetime"
      ],
      "execution_count": 0,
      "outputs": []
    },
    {
      "cell_type": "code",
      "metadata": {
        "colab_type": "code",
        "id": "79MsgivsasZM",
        "colab": {}
      },
      "source": [
        "#Setting up the AWS Access keys:\n",
        "#NOTE: DO NOT EXPOSE THE ACCESS & SECRET KEYS\n",
        "\n",
        "config_file = open(r'Config.json')\n",
        "config_file = json.loads(config_file.read())\n",
        "\n",
        "access_key = config_file['access_key']\n",
        "secret_access_key = config_file['secret_access_key']\n"
      ],
      "execution_count": 0,
      "outputs": []
    },
    {
      "cell_type": "code",
      "metadata": {
        "colab_type": "code",
        "id": "TqQqt0nqasZP",
        "colab": {}
      },
      "source": [
        "#Configuration Parameters:\n",
        "\n",
        "bucket_name = \"info7374s3assignment1team6\"#------------------------------------S3: Name of the creating AWS S3 Bucket\n",
        "\n",
        "policy_name = \"info7374policyassignment1team6\"#----------------------------------IAM: Access policy name\n",
        "iam_role_name = \"info7374roleassignment1team6\"#----------------------------------IAM: IAM Role for the architecural access\n",
        "\n",
        "db_name = \"info7374dbassignment1team6\"#-------------------------------------Redshift: Database Name for gaming data\n",
        "cluster_identifier = \"info7374clusterassignment1team6\"#---------------------Redshift: Redshift Cluster Name\n",
        "master_username = \"root\"#----------------------------------------Redshift: Admin Username\n",
        "master_password = \"Info7374gap\"#---------------------------------Redshift: Admin Password\n",
        "node_type = \"dc2.large\"#-----------------------------------------Redshift: Cluster configuration\n",
        "cluster_type = \"single-node\"#------------------------------------Redshift: Cluster Type\n",
        "availability_zone = \"us-east-1a\"#--------------------------------Redshift: Cluster Availability Zone\n",
        "table_name = \"info7374_game\"#------------------------------------Redshift: Database table name\n",
        "kinesis_data_stream_name = \"info7374datastreamassignment1team6\"#-------------Kinesis: Data Stream Name\n",
        "shard_count = 100#------------------------------------------------Kinesis: Data Stream Shard Count\n",
        "\n",
        "log_group_name = \"info7374loggroupassignment1team6\"#------------------------CloudWatch: Log Group Name\n",
        "log_stream_name = \"info7374logstreamassignment1team6\"#------------------------CloudWatch: Log Group Name\n",
        "delivery_stream_name = \"info7374deliverystreamassignment1team6\"#--------------Kinesis: Delivery Stream Name\n",
        "stream_type = \"KinesisStreamAsSource\"#-----------------------------Kinesis: Delivery Stream Type\n"
      ],
      "execution_count": 0,
      "outputs": []
    },
    {
      "cell_type": "code",
      "metadata": {
        "colab_type": "code",
        "id": "kbdIldnaasZR",
        "outputId": "081fa535-4e5a-46b8-f6ee-37836635d689",
        "colab": {
          "base_uri": "https://localhost:8080/",
          "height": 54
        }
      },
      "source": [
        "#Creating AWS S3 Bucket:\n",
        "\n",
        "s3_client = boto3.client('s3', aws_access_key_id = access_key, aws_secret_access_key = secret_access_key)\n",
        "\n",
        "response_s3 = s3_client.create_bucket(ACL=\"private\", Bucket=bucket_name)\n",
        "print(response_s3)"
      ],
      "execution_count": 0,
      "outputs": [
        {
          "output_type": "stream",
          "text": [
            "{'ResponseMetadata': {'RequestId': '71CF188C00A0F21E', 'HostId': 'QADcwPiOSxsb4ruKzEWy3FNGNEKeMMFd/JC7ZhVG/qx1zPoJdJx6XsY86NpRih5rIi2RAJLpXtk=', 'HTTPStatusCode': 200, 'HTTPHeaders': {'x-amz-id-2': 'QADcwPiOSxsb4ruKzEWy3FNGNEKeMMFd/JC7ZhVG/qx1zPoJdJx6XsY86NpRih5rIi2RAJLpXtk=', 'x-amz-request-id': '71CF188C00A0F21E', 'date': 'Thu, 11 Jul 2019 13:59:44 GMT', 'location': '/info7374s3assignment1team6', 'content-length': '0', 'server': 'AmazonS3'}, 'RetryAttempts': 0}, 'Location': '/info7374s3assignment1team6'}\n"
          ],
          "name": "stdout"
        }
      ]
    },
    {
      "cell_type": "code",
      "metadata": {
        "colab_type": "code",
        "id": "n4M6ybhDasZU",
        "outputId": "2c80d945-4159-4411-c365-99d5d62c5c6a",
        "colab": {
          "base_uri": "https://localhost:8080/",
          "height": 34
        }
      },
      "source": [
        "bucket_arn = \"arn:aws:s3:::\"+bucket_name#---------------------------S3: Bucker ARN\n",
        "print(bucket_arn)"
      ],
      "execution_count": 0,
      "outputs": [
        {
          "output_type": "stream",
          "text": [
            "arn:aws:s3:::info7374s3assignment1team6\n"
          ],
          "name": "stdout"
        }
      ]
    },
    {
      "cell_type": "code",
      "metadata": {
        "colab_type": "code",
        "id": "TgcR_UDEasZW",
        "colab": {}
      },
      "source": [
        "#Creating IAM Policy for Architecural access:\n",
        "\n",
        "iam_client = boto3.client('iam', aws_access_key_id = access_key, aws_secret_access_key = secret_access_key)\n"
      ],
      "execution_count": 0,
      "outputs": []
    },
    {
      "cell_type": "code",
      "metadata": {
        "colab_type": "code",
        "id": "urPVYJCPasZY",
        "colab": {}
      },
      "source": [
        "\n",
        "policy_details = {\n",
        "    \"Version\": \"2012-10-17\",\n",
        "    \"Statement\": [\n",
        "        {\n",
        "            \"Sid\": \"\",\n",
        "            \"Effect\": \"Allow\",\n",
        "            \"Action\": [\n",
        "                \"glue:GetTableVersions\"\n",
        "            ],\n",
        "            \"Resource\": \"*\"\n",
        "        },\n",
        "        {\n",
        "            \"Sid\": \"\",\n",
        "            \"Effect\": \"Allow\",\n",
        "            \"Action\": [\n",
        "                \"s3:AbortMultipartUpload\",\n",
        "                \"s3:GetBucketLocation\",\n",
        "                \"s3:GetObject\",\n",
        "                \"s3:ListBucket\",\n",
        "                \"s3:ListBucketMultipartUploads\",\n",
        "                \"s3:PutObject\"\n",
        "            ],\n",
        "            \"Resource\": \"*\"\n",
        "        },\n",
        "        {\n",
        "            \"Sid\": \"\",\n",
        "            \"Effect\": \"Allow\",\n",
        "            \"Action\": [\n",
        "                \"lambda:InvokeFunction\",\n",
        "                \"lambda:GetFunctionConfiguration\"\n",
        "            ],\n",
        "            \"Resource\": \"*\"\n",
        "        },\n",
        "        {\n",
        "            \"Sid\": \"\",\n",
        "            \"Effect\": \"Allow\",\n",
        "            \"Action\": [\n",
        "                \"logs:PutLogEvents\"\n",
        "            ],\n",
        "            \"Resource\": \"*\"\n",
        "        },\n",
        "        {\n",
        "            \"Sid\": \"\",\n",
        "            \"Effect\": \"Allow\",\n",
        "            \"Action\": [\n",
        "                \"kinesis:DescribeStream\",\n",
        "                \"kinesis:GetShardIterator\",\n",
        "                \"kinesis:GetRecords\"\n",
        "            ],\n",
        "            \"Resource\": \"*\"\n",
        "        },\n",
        "        {\n",
        "            \"Effect\": \"Allow\",\n",
        "            \"Action\": [\n",
        "                \"kms:Decrypt\"\n",
        "            ],\n",
        "            \"Resource\": \"*\"\n",
        "        }\n",
        "    ]\n",
        "}"
      ],
      "execution_count": 0,
      "outputs": []
    },
    {
      "cell_type": "code",
      "metadata": {
        "colab_type": "code",
        "id": "kzCwXACVasZb",
        "outputId": "fbb37517-6eb3-4cc0-e2fb-c326f9fa2c50",
        "colab": {
          "base_uri": "https://localhost:8080/",
          "height": 54
        }
      },
      "source": [
        "response_iam_policy = iam_client.create_policy(PolicyName=policy_name, PolicyDocument=json.dumps(policy_details))\n",
        "print(response_iam_policy)"
      ],
      "execution_count": 0,
      "outputs": [
        {
          "output_type": "stream",
          "text": [
            "{'Policy': {'PolicyName': 'info7374policyassignment1team6', 'PolicyId': 'ANPATOYZ5O3I7HOLJXZZW', 'Arn': 'arn:aws:iam::237888173777:policy/info7374policyassignment1team6', 'Path': '/', 'DefaultVersionId': 'v1', 'AttachmentCount': 0, 'PermissionsBoundaryUsageCount': 0, 'IsAttachable': True, 'CreateDate': datetime.datetime(2019, 7, 11, 14, 2, 7, tzinfo=tzlocal()), 'UpdateDate': datetime.datetime(2019, 7, 11, 14, 2, 7, tzinfo=tzlocal())}, 'ResponseMetadata': {'RequestId': '786422d6-a3e4-11e9-b4bc-116c7ed14b88', 'HTTPStatusCode': 200, 'HTTPHeaders': {'x-amzn-requestid': '786422d6-a3e4-11e9-b4bc-116c7ed14b88', 'content-type': 'text/xml', 'content-length': '795', 'date': 'Thu, 11 Jul 2019 14:02:07 GMT'}, 'RetryAttempts': 0}}\n"
          ],
          "name": "stdout"
        }
      ]
    },
    {
      "cell_type": "code",
      "metadata": {
        "colab_type": "code",
        "id": "qQQjMyNAasZe",
        "outputId": "fafd4958-c96c-4426-fe83-8c103d9c90b4",
        "colab": {
          "base_uri": "https://localhost:8080/",
          "height": 34
        }
      },
      "source": [
        "policy_arn = response_iam_policy['Policy']['Arn']#------------------------IAM: Policy ID for assignment\n",
        "print(policy_arn)"
      ],
      "execution_count": 0,
      "outputs": [
        {
          "output_type": "stream",
          "text": [
            "arn:aws:iam::237888173777:policy/info7374policyassignment1team6\n"
          ],
          "name": "stdout"
        }
      ]
    },
    {
      "cell_type": "code",
      "metadata": {
        "colab_type": "code",
        "id": "UfkQR9CpasZh",
        "colab": {}
      },
      "source": [
        ""
      ],
      "execution_count": 0,
      "outputs": []
    },
    {
      "cell_type": "code",
      "metadata": {
        "colab_type": "code",
        "id": "VYgfJyQxasZj",
        "outputId": "4ff9a2ab-e30e-49f5-de36-c57bf34fa6f7",
        "colab": {
          "base_uri": "https://localhost:8080/",
          "height": 54
        }
      },
      "source": [
        "#Creating IAM Role for Architectural access:\n",
        "\n",
        "assume_role_policy_doc = {\n",
        "  \"Version\": \"2012-10-17\",\n",
        "  \"Statement\": [\n",
        "    {\n",
        "      \"Sid\": \"\",\n",
        "      \"Effect\": \"Allow\",\n",
        "      \"Principal\": {\n",
        "        \"Service\": \"firehose.amazonaws.com\"\n",
        "      },\n",
        "      \"Action\": \"sts:AssumeRole\",\n",
        "      \"Condition\": {\n",
        "        \"StringEquals\": {\n",
        "          \"sts:ExternalId\": \"237888173777\"\n",
        "        }\n",
        "      }\n",
        "       \n",
        "    }\n",
        "  ]\n",
        "}\n",
        "\n",
        "response_iam_role = iam_client.create_role(RoleName=iam_role_name, AssumeRolePolicyDocument=json.dumps(assume_role_policy_doc))\n",
        "\n",
        "print(response_iam_role)"
      ],
      "execution_count": 0,
      "outputs": [
        {
          "output_type": "stream",
          "text": [
            "{'Role': {'Path': '/', 'RoleName': 'info7374roleassignment1team6', 'RoleId': 'AROATOYZ5O3I6EM26DGT7', 'Arn': 'arn:aws:iam::237888173777:role/info7374roleassignment1team6', 'CreateDate': datetime.datetime(2019, 7, 11, 14, 2, 13, tzinfo=tzlocal()), 'AssumeRolePolicyDocument': {'Version': '2012-10-17', 'Statement': [{'Sid': '', 'Effect': 'Allow', 'Principal': {'Service': 'firehose.amazonaws.com'}, 'Action': 'sts:AssumeRole', 'Condition': {'StringEquals': {'sts:ExternalId': '237888173777'}}}]}}, 'ResponseMetadata': {'RequestId': '7bf2eecb-a3e4-11e9-b4bc-116c7ed14b88', 'HTTPStatusCode': 200, 'HTTPHeaders': {'x-amzn-requestid': '7bf2eecb-a3e4-11e9-b4bc-116c7ed14b88', 'content-type': 'text/xml', 'content-length': '948', 'date': 'Thu, 11 Jul 2019 14:02:13 GMT'}, 'RetryAttempts': 0}}\n"
          ],
          "name": "stdout"
        }
      ]
    },
    {
      "cell_type": "code",
      "metadata": {
        "colab_type": "code",
        "id": "PjtT6nWXasZl",
        "colab": {}
      },
      "source": [
        "role_arn = response_iam_role['Role']['Arn']#----------------------------IAM: Role ARN"
      ],
      "execution_count": 0,
      "outputs": []
    },
    {
      "cell_type": "code",
      "metadata": {
        "colab_type": "code",
        "id": "S1kA4WasasZo",
        "outputId": "bcd22c2b-da76-46fd-f92d-e47e36d58ce6",
        "colab": {
          "base_uri": "https://localhost:8080/",
          "height": 54
        }
      },
      "source": [
        "#Attaching a Policy to a Role:\n",
        "\n",
        "response_iam_role_policy_attach = iam_client.attach_role_policy(PolicyArn=policy_arn,RoleName=iam_role_name)\n",
        "print(response_iam_role_policy_attach)"
      ],
      "execution_count": 0,
      "outputs": [
        {
          "output_type": "stream",
          "text": [
            "{'ResponseMetadata': {'RequestId': '7e7ad22b-a3e4-11e9-b4bc-116c7ed14b88', 'HTTPStatusCode': 200, 'HTTPHeaders': {'x-amzn-requestid': '7e7ad22b-a3e4-11e9-b4bc-116c7ed14b88', 'content-type': 'text/xml', 'content-length': '212', 'date': 'Thu, 11 Jul 2019 14:02:17 GMT'}, 'RetryAttempts': 0}}\n"
          ],
          "name": "stdout"
        }
      ]
    },
    {
      "cell_type": "code",
      "metadata": {
        "colab_type": "code",
        "id": "9kJlT7LWasZp",
        "colab": {}
      },
      "source": [
        ""
      ],
      "execution_count": 0,
      "outputs": []
    },
    {
      "cell_type": "code",
      "metadata": {
        "colab_type": "code",
        "id": "Qj_i92g7asZr",
        "outputId": "d770d9a5-2dcb-4458-fab3-19d223ce191e",
        "colab": {
          "base_uri": "https://localhost:8080/",
          "height": 232
        }
      },
      "source": [
        "#Creating AWS Redshift Cluster:\n",
        "\n",
        "redshift_client = boto3.client('redshift',region_name=\"us-east-1\", aws_access_key_id = access_key, aws_secret_access_key = secret_access_key)\n",
        "\n",
        "response_redshift = redshift_client.create_cluster(\n",
        "    DBName=db_name,\n",
        "    ClusterIdentifier=cluster_identifier,\n",
        "    ClusterType=cluster_type,\n",
        "    NodeType=node_type,\n",
        "    MasterUsername=master_username,\n",
        "    MasterUserPassword=master_password,\n",
        "    AvailabilityZone=availability_zone,\n",
        "    IamRoles=[role_arn],\n",
        "    PubliclyAccessible=True)\n",
        "\n",
        "print(response_redshift)"
      ],
      "execution_count": 18,
      "outputs": [
        {
          "output_type": "error",
          "ename": "NameError",
          "evalue": "ignored",
          "traceback": [
            "\u001b[0;31m---------------------------------------------------------------------------\u001b[0m",
            "\u001b[0;31mNameError\u001b[0m                                 Traceback (most recent call last)",
            "\u001b[0;32m<ipython-input-18-9e380f555fb4>\u001b[0m in \u001b[0;36m<module>\u001b[0;34m()\u001b[0m\n\u001b[1;32m     10\u001b[0m     \u001b[0mMasterUserPassword\u001b[0m\u001b[0;34m=\u001b[0m\u001b[0mmaster_password\u001b[0m\u001b[0;34m,\u001b[0m\u001b[0;34m\u001b[0m\u001b[0;34m\u001b[0m\u001b[0m\n\u001b[1;32m     11\u001b[0m     \u001b[0mAvailabilityZone\u001b[0m\u001b[0;34m=\u001b[0m\u001b[0mavailability_zone\u001b[0m\u001b[0;34m,\u001b[0m\u001b[0;34m\u001b[0m\u001b[0;34m\u001b[0m\u001b[0m\n\u001b[0;32m---> 12\u001b[0;31m     \u001b[0mIamRoles\u001b[0m\u001b[0;34m=\u001b[0m\u001b[0;34m[\u001b[0m\u001b[0mrole_arn\u001b[0m\u001b[0;34m]\u001b[0m\u001b[0;34m,\u001b[0m\u001b[0;34m\u001b[0m\u001b[0;34m\u001b[0m\u001b[0m\n\u001b[0m\u001b[1;32m     13\u001b[0m     PubliclyAccessible=True)\n\u001b[1;32m     14\u001b[0m \u001b[0;34m\u001b[0m\u001b[0m\n",
            "\u001b[0;31mNameError\u001b[0m: name 'role_arn' is not defined"
          ]
        }
      ]
    },
    {
      "cell_type": "code",
      "metadata": {
        "colab_type": "code",
        "id": "15SddSDgasZt",
        "colab": {}
      },
      "source": [
        "#Note: Wait for 5 min to get AWS Redshift cluster to setup as we need to create a Database table."
      ],
      "execution_count": 0,
      "outputs": []
    },
    {
      "cell_type": "code",
      "metadata": {
        "colab_type": "code",
        "id": "NGK9aK6tasZv",
        "colab": {}
      },
      "source": [
        ""
      ],
      "execution_count": 0,
      "outputs": []
    },
    {
      "cell_type": "code",
      "metadata": {
        "colab_type": "code",
        "id": "qrxbSps1asZx",
        "outputId": "05894a17-497e-494c-8304-977b4ef80607",
        "colab": {
          "base_uri": "https://localhost:8080/",
          "height": 54
        }
      },
      "source": [
        "#Describe AWS Redshift Cluster to get an endpoint:\n",
        "\n",
        "response_redshift_desc = redshift_client.describe_clusters(ClusterIdentifier=cluster_identifier)\n",
        "print(response_redshift_desc)"
      ],
      "execution_count": 21,
      "outputs": [
        {
          "output_type": "stream",
          "text": [
            "{'Clusters': [{'ClusterIdentifier': 'info7374clusterassignment1team6', 'NodeType': 'dc2.large', 'ClusterStatus': 'available', 'ClusterAvailabilityStatus': 'Available', 'MasterUsername': 'root', 'DBName': 'info7374dbassignment1team6', 'Endpoint': {'Address': 'info7374clusterassignment1team6.c76nrcvogw31.us-east-1.redshift.amazonaws.com', 'Port': 5439}, 'ClusterCreateTime': datetime.datetime(2019, 7, 11, 14, 6, 37, 65000, tzinfo=tzlocal()), 'AutomatedSnapshotRetentionPeriod': 1, 'ManualSnapshotRetentionPeriod': -1, 'ClusterSecurityGroups': [], 'VpcSecurityGroups': [{'VpcSecurityGroupId': 'sg-7d4d2226', 'Status': 'active'}], 'ClusterParameterGroups': [{'ParameterGroupName': 'default.redshift-1.0', 'ParameterApplyStatus': 'in-sync'}], 'ClusterSubnetGroupName': 'default', 'VpcId': 'vpc-ad5030d7', 'AvailabilityZone': 'us-east-1a', 'PreferredMaintenanceWindow': 'mon:09:30-mon:10:00', 'PendingModifiedValues': {}, 'ClusterVersion': '1.0', 'AllowVersionUpgrade': True, 'NumberOfNodes': 1, 'PubliclyAccessible': True, 'Encrypted': False, 'ClusterPublicKey': 'ssh-rsa AAAAB3NzaC1yc2EAAAADAQABAAABAQCnlFiBaUaugJ+a2QU4sEPoH9JfXw5oy26JaUiIQl7sZrTZvgrQejF5Loz3CAqNZ+aqlLmfd1bjQ8FFzVKQ12wcB4jFnZOh8W7Q3NDvfBGnuzKr6LjHBsH0V9FneBtWpKwZIOzXU3737OebX+3fY9nlqvSIg/pF2QBZTADv99pPx0KcD6qPu5KzSi+Ki+GZf35gkb+oJW5zsmJ2+IwR35YYe2L8FjaT+pDmt0UyNfu1TX5rJhiXjumCmv2Z2Qc/S5EVQNt1+jMEDSeZNcrVoiWkIZ8yGRLQ3QSpOgmGS811zizTNckk06FYjS6NpAVilXlhbRImBMCDxxvVmgCZO4YF Amazon-Redshift\\n', 'ClusterNodes': [{'NodeRole': 'SHARED', 'PrivateIPAddress': '172.31.46.61', 'PublicIPAddress': '3.221.138.66'}], 'ClusterRevisionNumber': '8205', 'Tags': [], 'EnhancedVpcRouting': False, 'IamRoles': [{'IamRoleArn': 'arn:aws:iam::237888173777:role/info7374roleassignment1team6', 'ApplyStatus': 'in-sync'}, {'IamRoleArn': 'arn:aws:iam::237888173777:role/myredshiftrole', 'ApplyStatus': 'in-sync'}], 'MaintenanceTrackName': 'current', 'DeferredMaintenanceWindows': []}], 'ResponseMetadata': {'RequestId': '5fe31219-a4c5-11e9-9bea-4fe1078e7321', 'HTTPStatusCode': 200, 'HTTPHeaders': {'x-amzn-requestid': '5fe31219-a4c5-11e9-9bea-4fe1078e7321', 'content-type': 'text/xml', 'content-length': '3449', 'vary': 'Accept-Encoding', 'date': 'Fri, 12 Jul 2019 16:52:03 GMT'}, 'RetryAttempts': 0}}\n"
          ],
          "name": "stdout"
        }
      ]
    },
    {
      "cell_type": "code",
      "metadata": {
        "colab_type": "code",
        "id": "v6wiSDuQasZz",
        "colab": {}
      },
      "source": [
        "hostname = response_redshift_desc['Clusters'][0]['Endpoint']['Address']#----------------Redshift: Hostname for database\n",
        "port_number = response_redshift_desc['Clusters'][0]['Endpoint']['Port']#----------------Redshift: Port Number for databse"
      ],
      "execution_count": 0,
      "outputs": []
    },
    {
      "cell_type": "code",
      "metadata": {
        "colab_type": "code",
        "id": "oK6GgejlasZ7",
        "colab": {}
      },
      "source": [
        "#Creating Database table on Redshift:\n",
        "\n",
        "con = psycopg2.connect(dbname= db_name, host= hostname, port= port_number, user= master_username, password= master_password)\n",
        "\n",
        "con.set_session(autocommit=True)\n",
        "cur = con.cursor()"
      ],
      "execution_count": 0,
      "outputs": []
    },
    {
      "cell_type": "code",
      "metadata": {
        "colab_type": "code",
        "id": "o101Nv5easaA",
        "outputId": "0eeb1c1e-e4f9-4d2e-9fe8-e12c2164f1db",
        "colab": {
          "base_uri": "https://localhost:8080/",
          "height": 85
        }
      },
      "source": [
        "#Example: https://docs.aws.amazon.com/redshift/latest/dg/r_CREATE_TABLE_examples.html\n",
        "\n",
        "query = \"create table Products (\\n\"\n",
        "query+= \"product_id varchar(200) not null,\\n\"\n",
        "query+= \"product_name varchar(200) not null,\\n\"\n",
        "query+= \"category varchar(200) not null);\"\n",
        "\n",
        "print(query)"
      ],
      "execution_count": 32,
      "outputs": [
        {
          "output_type": "stream",
          "text": [
            "create table Products (\n",
            "product_id varchar(200) not null,\n",
            "product_name varchar(200) not null,\n",
            "category varchar(200) not null);\n"
          ],
          "name": "stdout"
        }
      ]
    },
    {
      "cell_type": "code",
      "metadata": {
        "colab_type": "code",
        "id": "8KQeuKzWasaE",
        "colab": {}
      },
      "source": [
        "cur.execute(query)"
      ],
      "execution_count": 0,
      "outputs": []
    },
    {
      "cell_type": "code",
      "metadata": {
        "id": "XvTNBSnXgVvK",
        "colab_type": "code",
        "outputId": "565cbae1-6634-42cd-d3f4-fa3b3217d946",
        "colab": {
          "base_uri": "https://localhost:8080/",
          "height": 130
        }
      },
      "source": [
        "copy products\n",
        "query = \"create table Products (\\n\"\n",
        "query+= \"product_id varchar(200) not null,\\n\"\n",
        "query+= \"product_name varchar(200) not null,\\n\"\n",
        "query+= \"category varchar(200) not null);\"\n",
        "\n",
        "print(query)"
      ],
      "execution_count": 0,
      "outputs": [
        {
          "output_type": "error",
          "ename": "SyntaxError",
          "evalue": "ignored",
          "traceback": [
            "\u001b[0;36m  File \u001b[0;32m\"<ipython-input-20-8274d0133739>\"\u001b[0;36m, line \u001b[0;32m1\u001b[0m\n\u001b[0;31m    copy products\u001b[0m\n\u001b[0m                ^\u001b[0m\n\u001b[0;31mSyntaxError\u001b[0m\u001b[0;31m:\u001b[0m invalid syntax\n"
          ]
        }
      ]
    },
    {
      "cell_type": "code",
      "metadata": {
        "id": "7rTpsHfnnfxd",
        "colab_type": "code",
        "colab": {}
      },
      "source": [
        "copy products from 's3://info7374s3assignment1team6/JSON/Products_data.json' \n",
        "credentials 'aws_access_key_id=<access_key>;aws_secret_access_key=<secret_access_key>' \n",
        "options;"
      ],
      "execution_count": 0,
      "outputs": []
    },
    {
      "cell_type": "code",
      "metadata": {
        "id": "Y27eatLdoISR",
        "colab_type": "code",
        "colab": {}
      },
      "source": [
        ""
      ],
      "execution_count": 0,
      "outputs": []
    },
    {
      "cell_type": "code",
      "metadata": {
        "id": "F1x2MSZzgV_5",
        "colab_type": "code",
        "colab": {}
      },
      "source": [
        ""
      ],
      "execution_count": 0,
      "outputs": []
    },
    {
      "cell_type": "code",
      "metadata": {
        "id": "PJQKNVov7FVK",
        "colab_type": "code",
        "outputId": "4430b16d-7873-4e69-a15c-cc13efea80d2",
        "colab": {
          "base_uri": "https://localhost:8080/",
          "height": 204
        }
      },
      "source": [
        "query = \"create table sales (\\n\"\n",
        "query+= \"Order_id integer not null,\\n\"\n",
        "query+= \"Customer_Category varchar(200) not null,\\n\"\n",
        "query+= \"Customer_ID varchar(200) not null,\\n\"\n",
        "query+= \"Customer_Name varchar(200) not null,\\n\"\n",
        "query+= \"Order_Date date not null,\\n\"\n",
        "query+= \"Promotion_id varchar(200) not null,\\n\"\n",
        "query+= \"product_id varchar(200) not null,\\n\"\n",
        "query+= \"Price decimal(8,2) not null,\\n\"\n",
        "query+= \"quantity decimal(8,2) not null,\\n\"\n",
        "query+= \"total_amount decimal(8,2) not null);\"\n",
        "\n",
        "print(query)"
      ],
      "execution_count": 53,
      "outputs": [
        {
          "output_type": "stream",
          "text": [
            "create table sales (\n",
            "Order_id integer not null,\n",
            "Customer_Category varchar(200) not null,\n",
            "Customer_ID varchar(200) not null,\n",
            "Customer_Name varchar(200) not null,\n",
            "Order_Date date not null,\n",
            "Promotion_id varchar(200) not null,\n",
            "product_id varchar(200) not null,\n",
            "Price decimal(8,2) not null,\n",
            "quantity decimal(8,2) not null,\n",
            "total_amount decimal(8,2) not null);\n"
          ],
          "name": "stdout"
        }
      ]
    },
    {
      "cell_type": "code",
      "metadata": {
        "id": "51e3D71q7GVZ",
        "colab_type": "code",
        "colab": {}
      },
      "source": [
        "cur.execute(query)"
      ],
      "execution_count": 0,
      "outputs": []
    },
    {
      "cell_type": "code",
      "metadata": {
        "id": "DGuU27aD9n1R",
        "colab_type": "code",
        "outputId": "9d1bbf78-fb6b-46f7-ab61-a336008498ab",
        "colab": {
          "base_uri": "https://localhost:8080/",
          "height": 153
        }
      },
      "source": [
        "query = \"create table Customers (\\n\"\n",
        "query+= \"Customer_ID integer not null,\\n\"\n",
        "query+= \"Company_Name varchar(200) not null,\\n\"\n",
        "query+= \"Region varchar(200) not null,\\n\"\n",
        "query+= \"State varchar(200) not null,\\n\"\n",
        "query+= \"City varchar(200) not null,\\n\"\n",
        "query+= \"Postal_Code integer not null,\\n\"\n",
        "query+= \"Cusomter_Category varchar(200) not null);\"\n",
        "\n",
        "print(query)\n",
        "\n"
      ],
      "execution_count": 55,
      "outputs": [
        {
          "output_type": "stream",
          "text": [
            "create table Customers (\n",
            "Customer_ID integer not null,\n",
            "Company_Name varchar(200) not null,\n",
            "Region varchar(200) not null,\n",
            "State varchar(200) not null,\n",
            "City varchar(200) not null,\n",
            "Postal_Code integer not null,\n",
            "Cusomter_Category varchar(200) not null);\n"
          ],
          "name": "stdout"
        }
      ]
    },
    {
      "cell_type": "code",
      "metadata": {
        "id": "ciuZpNshlYWp",
        "colab_type": "code",
        "colab": {}
      },
      "source": [
        "cur.execute(query)"
      ],
      "execution_count": 0,
      "outputs": []
    },
    {
      "cell_type": "code",
      "metadata": {
        "id": "Xgpl01FM9o57",
        "colab_type": "code",
        "colab": {
          "base_uri": "https://localhost:8080/",
          "height": 85
        },
        "outputId": "f61607ca-0a06-4437-a285-7d4190605e8d"
      },
      "source": [
        "query = \"create table Products_pricing (\\n\"\n",
        "query+= \"product_id varchar(200) not null,\\n\"\n",
        "query+= \"cost_price decimal(8,2) not null,\\n\"\n",
        "query+= \"selling_price decimal(8,2) not null);\"\n",
        "\n",
        "print(query)\n"
      ],
      "execution_count": 44,
      "outputs": [
        {
          "output_type": "stream",
          "text": [
            "create table Products_pricing (\n",
            "product_id varchar(200) not null,\n",
            "cost_price decimal(8,2) not null,\n",
            "selling_price decimal(8,2) not null);\n"
          ],
          "name": "stdout"
        }
      ]
    },
    {
      "cell_type": "code",
      "metadata": {
        "id": "g2KbAONxKjTK",
        "colab_type": "code",
        "colab": {}
      },
      "source": [
        "cur.execute(query)"
      ],
      "execution_count": 0,
      "outputs": []
    },
    {
      "cell_type": "code",
      "metadata": {
        "id": "QksgrS4KKjgO",
        "colab_type": "code",
        "colab": {
          "base_uri": "https://localhost:8080/",
          "height": 102
        },
        "outputId": "0e51d74c-0cc4-4f35-aa04-ab98cc58026b"
      },
      "source": [
        "query = \"create table Promotions (\\n\"\n",
        "query+= \"Promotion_id varchar(200) not null,\\n\"\n",
        "query+= \"Promotion_Name varchar(200) not null,\\n\"\n",
        "query+= \"Promotion_Start_Date date not null,\\n\"\n",
        "query+= \"Promotion_End_Date date not null);\"\n",
        "\n",
        "print(query)"
      ],
      "execution_count": 46,
      "outputs": [
        {
          "output_type": "stream",
          "text": [
            "create table Promotions (\n",
            "Promotion_id varchar(200) not null,\n",
            "Promotion_Name varchar(200) not null,\n",
            "Promotion_Start_Date date not null,\n",
            "Promotion_End_Date date not null);\n"
          ],
          "name": "stdout"
        }
      ]
    },
    {
      "cell_type": "code",
      "metadata": {
        "id": "EwuFFAYqKjlv",
        "colab_type": "code",
        "colab": {}
      },
      "source": [
        "cur.execute(query)"
      ],
      "execution_count": 0,
      "outputs": []
    },
    {
      "cell_type": "code",
      "metadata": {
        "colab_type": "code",
        "id": "cicjB41VasaK",
        "colab": {}
      },
      "source": [
        "\n"
      ],
      "execution_count": 0,
      "outputs": []
    },
    {
      "cell_type": "code",
      "metadata": {
        "colab_type": "code",
        "id": "NhNFYYBAasaS",
        "outputId": "2ae494e8-2a69-4d5a-fb54-0a3adba6a2f7",
        "colab": {
          "base_uri": "https://localhost:8080/",
          "height": 54
        }
      },
      "source": [
        "#Creating Kinesis Stream:\n",
        "\n",
        "kinesis_client = boto3.client('kinesis',region_name=\"us-east-1\", aws_access_key_id = access_key, aws_secret_access_key = secret_access_key)\n",
        "\n",
        "response_kinesis_data_stream = kinesis_client.create_stream(StreamName=kinesis_data_stream_name,ShardCount=shard_count)\n",
        "print(response_kinesis_data_stream)"
      ],
      "execution_count": 57,
      "outputs": [
        {
          "output_type": "stream",
          "text": [
            "{'ResponseMetadata': {'RequestId': 'fe2f7b56-5365-a60f-ab8c-6eeca00a4fec', 'HTTPStatusCode': 200, 'HTTPHeaders': {'x-amzn-requestid': 'fe2f7b56-5365-a60f-ab8c-6eeca00a4fec', 'x-amz-id-2': 'qtG+wEW6RpXyBAkeFsrD10OATgH/bpV+cTU+SexJuuZlCmEzltMpWWDpSAoYR4UTuPVvU6/8fRua5C8CGpu+7uZmGkLpBmQz', 'date': 'Fri, 12 Jul 2019 23:10:50 GMT', 'content-type': 'application/x-amz-json-1.1', 'content-length': '0'}, 'RetryAttempts': 0}}\n"
          ],
          "name": "stdout"
        }
      ]
    },
    {
      "cell_type": "code",
      "metadata": {
        "colab_type": "code",
        "id": "DytybtO_asaZ",
        "outputId": "b9fc40e9-b9a4-4a51-a714-b3e34d2c4824",
        "colab": {
          "base_uri": "https://localhost:8080/",
          "height": 54
        }
      },
      "source": [
        "response_kinesis_data_stream_desc = kinesis_client.describe_stream(StreamName=kinesis_data_stream_name)\n",
        "print(response_kinesis_data_stream_desc)"
      ],
      "execution_count": 58,
      "outputs": [
        {
          "output_type": "stream",
          "text": [
            "{'StreamDescription': {'StreamName': 'info7374datastreamassignment1team6', 'StreamARN': 'arn:aws:kinesis:us-east-1:237888173777:stream/info7374datastreamassignment1team6', 'StreamStatus': 'CREATING', 'Shards': [], 'HasMoreShards': False, 'RetentionPeriodHours': 24, 'StreamCreationTimestamp': datetime.datetime(2019, 7, 12, 23, 10, 49, tzinfo=tzlocal()), 'EnhancedMonitoring': [{'ShardLevelMetrics': []}], 'EncryptionType': 'NONE'}, 'ResponseMetadata': {'RequestId': 'f761f290-1b92-15ef-a2c2-e72be8fdfc0c', 'HTTPStatusCode': 200, 'HTTPHeaders': {'x-amzn-requestid': 'f761f290-1b92-15ef-a2c2-e72be8fdfc0c', 'x-amz-id-2': 'ffiB+/oIxbpY9He/aepu2xEaNapeoSX6l3kKQ28mLc5Ke83eVwyDfou6Hc33VvPHxHqK7D+4aDmjAdFZUBZcP9q8hEywgQbl', 'date': 'Fri, 12 Jul 2019 23:10:51 GMT', 'content-type': 'application/x-amz-json-1.1', 'content-length': '366'}, 'RetryAttempts': 0}}\n"
          ],
          "name": "stdout"
        }
      ]
    },
    {
      "cell_type": "code",
      "metadata": {
        "colab_type": "code",
        "id": "E_5ofbc5asae",
        "outputId": "219e4bca-32ef-43a7-eda1-dded20ee6774",
        "colab": {
          "base_uri": "https://localhost:8080/",
          "height": 34
        }
      },
      "source": [
        "kinesis_stream_arn = response_kinesis_data_stream_desc['StreamDescription']['StreamARN']#-----------------------Kinesis: Datastream ARN\n",
        "print(kinesis_stream_arn)"
      ],
      "execution_count": 59,
      "outputs": [
        {
          "output_type": "stream",
          "text": [
            "arn:aws:kinesis:us-east-1:237888173777:stream/info7374datastreamassignment1team6\n"
          ],
          "name": "stdout"
        }
      ]
    },
    {
      "cell_type": "code",
      "metadata": {
        "colab_type": "code",
        "id": "-jz0zdYYasal",
        "colab": {}
      },
      "source": [
        ""
      ],
      "execution_count": 0,
      "outputs": []
    },
    {
      "cell_type": "code",
      "metadata": {
        "colab_type": "code",
        "id": "uKt2S8mPasbD",
        "outputId": "5b9d2196-aff3-4a26-c5e2-673385aec3fc",
        "colab": {
          "base_uri": "https://localhost:8080/",
          "height": 34
        }
      },
      "source": [
        "#Creating Kinesis Delivery Stream: Firehose\n",
        "\n",
        "firehose_client = boto3.client('firehose',region_name=\"us-east-1\", aws_access_key_id = access_key, aws_secret_access_key = secret_access_key)\n",
        "\n",
        "cluster_jdbc_url = \"jdbc:redshift://\"+hostname+\":\"+str(port_number)+\"/\"+db_name\n",
        "print(cluster_jdbc_url)"
      ],
      "execution_count": 60,
      "outputs": [
        {
          "output_type": "stream",
          "text": [
            "jdbc:redshift://info7374clusterassignment1team6.c76nrcvogw31.us-east-1.redshift.amazonaws.com:5439/info7374dbassignment1team6\n"
          ],
          "name": "stdout"
        }
      ]
    },
    {
      "cell_type": "code",
      "metadata": {
        "colab_type": "code",
        "id": "xF4wOHemasbG",
        "outputId": "aab14912-d523-4296-8257-7e6bc7d2556b",
        "colab": {
          "base_uri": "https://localhost:8080/",
          "height": 54
        }
      },
      "source": [
        "response_firehose = firehose_client.create_delivery_stream(\n",
        "    DeliveryStreamName = delivery_stream_name,\n",
        "    DeliveryStreamType = stream_type,\n",
        "    KinesisStreamSourceConfiguration={\n",
        "        'KinesisStreamARN': kinesis_stream_arn,\n",
        "        'RoleARN': 'arn:aws:iam::237888173777:role/info7374roleassignment1team6'\n",
        "    },\n",
        "    RedshiftDestinationConfiguration={\n",
        "        'RoleARN': 'arn:aws:iam::237888173777:role/info7374roleassignment1team6',\n",
        "        'ClusterJDBCURL': cluster_jdbc_url,\n",
        "        'CopyCommand': {\n",
        "            'DataTableName': 'products',\n",
        "            'DataTableColumns': 'Product_ID, Product_Name, Category',\n",
        "            'CopyOptions': \"json 'auto'\"\n",
        "        },\n",
        "        'Username': master_username,\n",
        "        'Password': master_password,\n",
        "        'S3Configuration': {\n",
        "            'RoleARN': 'arn:aws:iam::237888173777:role/info7374roleassignment1team6',\n",
        "            'BucketARN': 'arn:aws:s3:::info7374s3assignment1team6',\n",
        "            'BufferingHints': {\n",
        "                'IntervalInSeconds': 60\n",
        "            }\n",
        "        }\n",
        "    })\n",
        "\n",
        "print(response_firehose)"
      ],
      "execution_count": 66,
      "outputs": [
        {
          "output_type": "stream",
          "text": [
            "{'DeliveryStreamARN': 'arn:aws:firehose:us-east-1:237888173777:deliverystream/info7374deliverystreamassignment1team6', 'ResponseMetadata': {'RequestId': 'd5191935-f78c-9748-80ba-0375abaf75ce', 'HTTPStatusCode': 200, 'HTTPHeaders': {'x-amzn-requestid': 'd5191935-f78c-9748-80ba-0375abaf75ce', 'x-amz-id-2': 'QlhxJbt4Y0JySVuIv/DAE7pfcOyVUK2O20KM/LWNNNq+pakfMk5exx0r+kHPg/MRGmo1FK422HiJaqdJb+uLtml7Awg5oiBE', 'content-type': 'application/x-amz-json-1.1', 'content-length': '117', 'date': 'Fri, 12 Jul 2019 23:30:08 GMT'}, 'RetryAttempts': 0}}\n"
          ],
          "name": "stdout"
        }
      ]
    },
    {
      "cell_type": "code",
      "metadata": {
        "id": "ylVmkMi9JLIP",
        "colab_type": "code",
        "colab": {}
      },
      "source": [
        ""
      ],
      "execution_count": 0,
      "outputs": []
    },
    {
      "cell_type": "code",
      "metadata": {
        "id": "mrqhH-YbJLVz",
        "colab_type": "code",
        "colab": {}
      },
      "source": [
        ""
      ],
      "execution_count": 0,
      "outputs": []
    },
    {
      "cell_type": "code",
      "metadata": {
        "colab_type": "code",
        "id": "fn3h3dQ7asbK",
        "colab": {}
      },
      "source": [
        "#Cogratulation!!! At this stage we have successfully created our Architacure"
      ],
      "execution_count": 0,
      "outputs": []
    },
    {
      "cell_type": "code",
      "metadata": {
        "colab_type": "code",
        "id": "_yzv_l3yasbN",
        "colab": {}
      },
      "source": [
        "#Real-time data streaming:\n",
        "\n",
        "kinesis_delivery_client = boto3.client('kinesis', region_name=\"us-east-1\", aws_access_key_id = access_key, aws_secret_access_key = secret_access_key)"
      ],
      "execution_count": 0,
      "outputs": []
    },
    {
      "cell_type": "code",
      "metadata": {
        "colab_type": "code",
        "id": "ElCNeBcAasbP",
        "colab": {}
      },
      "source": [
        ""
      ],
      "execution_count": 0,
      "outputs": []
    },
    {
      "cell_type": "code",
      "metadata": {
        "colab_type": "code",
        "id": "AUkRlmtXasbR",
        "colab": {}
      },
      "source": [
        ""
      ],
      "execution_count": 0,
      "outputs": []
    },
    {
      "cell_type": "code",
      "metadata": {
        "colab_type": "code",
        "id": "5DENAbFmasbU",
        "colab": {}
      },
      "source": [
        "#My Data\n",
        "\n",
        "import pandas as pd\n",
        "\n"
      ],
      "execution_count": 0,
      "outputs": []
    },
    {
      "cell_type": "code",
      "metadata": {
        "id": "OqfS5le6h_o4",
        "colab_type": "code",
        "colab": {
          "base_uri": "https://localhost:8080/",
          "height": 204
        },
        "outputId": "2ab422ac-f6f5-4dd3-e9b0-6284007744b3"
      },
      "source": [
        "#Reading the csv file\n",
        "data_file = r'Products.csv'\n",
        "data = pd.read_csv(data_file)\n",
        "data.head()"
      ],
      "execution_count": 76,
      "outputs": [
        {
          "output_type": "execute_result",
          "data": {
            "text/html": [
              "<div>\n",
              "<style scoped>\n",
              "    .dataframe tbody tr th:only-of-type {\n",
              "        vertical-align: middle;\n",
              "    }\n",
              "\n",
              "    .dataframe tbody tr th {\n",
              "        vertical-align: top;\n",
              "    }\n",
              "\n",
              "    .dataframe thead th {\n",
              "        text-align: right;\n",
              "    }\n",
              "</style>\n",
              "<table border=\"1\" class=\"dataframe\">\n",
              "  <thead>\n",
              "    <tr style=\"text-align: right;\">\n",
              "      <th></th>\n",
              "      <th>Product ID</th>\n",
              "      <th>Product Name</th>\n",
              "      <th>Category</th>\n",
              "    </tr>\n",
              "  </thead>\n",
              "  <tbody>\n",
              "    <tr>\n",
              "      <th>0</th>\n",
              "      <td>P1</td>\n",
              "      <td>725C2 BARE CHASSIS</td>\n",
              "      <td>ARTICULATED TRUCKS</td>\n",
              "    </tr>\n",
              "    <tr>\n",
              "      <th>1</th>\n",
              "      <td>P2</td>\n",
              "      <td>730C2 BARE CHASSIS</td>\n",
              "      <td>ARTICULATED TRUCKS</td>\n",
              "    </tr>\n",
              "    <tr>\n",
              "      <th>2</th>\n",
              "      <td>P3</td>\n",
              "      <td>740 EJ</td>\n",
              "      <td>ARTICULATED TRUCKS</td>\n",
              "    </tr>\n",
              "    <tr>\n",
              "      <th>3</th>\n",
              "      <td>P4</td>\n",
              "      <td>415F2</td>\n",
              "      <td>ARTICULATED TRUCKS</td>\n",
              "    </tr>\n",
              "    <tr>\n",
              "      <th>4</th>\n",
              "      <td>P5</td>\n",
              "      <td>415F2 IL</td>\n",
              "      <td>ARTICULATED TRUCKS</td>\n",
              "    </tr>\n",
              "  </tbody>\n",
              "</table>\n",
              "</div>"
            ],
            "text/plain": [
              "  Product ID        Product Name            Category\n",
              "0         P1  725C2 BARE CHASSIS  ARTICULATED TRUCKS\n",
              "1         P2  730C2 BARE CHASSIS  ARTICULATED TRUCKS\n",
              "2         P3              740 EJ  ARTICULATED TRUCKS\n",
              "3         P4               415F2  ARTICULATED TRUCKS\n",
              "4         P5            415F2 IL  ARTICULATED TRUCKS"
            ]
          },
          "metadata": {
            "tags": []
          },
          "execution_count": 76
        }
      ]
    },
    {
      "cell_type": "code",
      "metadata": {
        "id": "qh5qbgPUh_rc",
        "colab_type": "code",
        "colab": {}
      },
      "source": [
        "data = data.head(5)"
      ],
      "execution_count": 0,
      "outputs": []
    },
    {
      "cell_type": "code",
      "metadata": {
        "id": "ji4Zxavih_td",
        "colab_type": "code",
        "colab": {
          "base_uri": "https://localhost:8080/",
          "height": 204
        },
        "outputId": "46363c38-2134-49a6-d918-9f403db73a9c"
      },
      "source": [
        "data"
      ],
      "execution_count": 78,
      "outputs": [
        {
          "output_type": "execute_result",
          "data": {
            "text/html": [
              "<div>\n",
              "<style scoped>\n",
              "    .dataframe tbody tr th:only-of-type {\n",
              "        vertical-align: middle;\n",
              "    }\n",
              "\n",
              "    .dataframe tbody tr th {\n",
              "        vertical-align: top;\n",
              "    }\n",
              "\n",
              "    .dataframe thead th {\n",
              "        text-align: right;\n",
              "    }\n",
              "</style>\n",
              "<table border=\"1\" class=\"dataframe\">\n",
              "  <thead>\n",
              "    <tr style=\"text-align: right;\">\n",
              "      <th></th>\n",
              "      <th>Product ID</th>\n",
              "      <th>Product Name</th>\n",
              "      <th>Category</th>\n",
              "    </tr>\n",
              "  </thead>\n",
              "  <tbody>\n",
              "    <tr>\n",
              "      <th>0</th>\n",
              "      <td>P1</td>\n",
              "      <td>725C2 BARE CHASSIS</td>\n",
              "      <td>ARTICULATED TRUCKS</td>\n",
              "    </tr>\n",
              "    <tr>\n",
              "      <th>1</th>\n",
              "      <td>P2</td>\n",
              "      <td>730C2 BARE CHASSIS</td>\n",
              "      <td>ARTICULATED TRUCKS</td>\n",
              "    </tr>\n",
              "    <tr>\n",
              "      <th>2</th>\n",
              "      <td>P3</td>\n",
              "      <td>740 EJ</td>\n",
              "      <td>ARTICULATED TRUCKS</td>\n",
              "    </tr>\n",
              "    <tr>\n",
              "      <th>3</th>\n",
              "      <td>P4</td>\n",
              "      <td>415F2</td>\n",
              "      <td>ARTICULATED TRUCKS</td>\n",
              "    </tr>\n",
              "    <tr>\n",
              "      <th>4</th>\n",
              "      <td>P5</td>\n",
              "      <td>415F2 IL</td>\n",
              "      <td>ARTICULATED TRUCKS</td>\n",
              "    </tr>\n",
              "  </tbody>\n",
              "</table>\n",
              "</div>"
            ],
            "text/plain": [
              "  Product ID        Product Name            Category\n",
              "0         P1  725C2 BARE CHASSIS  ARTICULATED TRUCKS\n",
              "1         P2  730C2 BARE CHASSIS  ARTICULATED TRUCKS\n",
              "2         P3              740 EJ  ARTICULATED TRUCKS\n",
              "3         P4               415F2  ARTICULATED TRUCKS\n",
              "4         P5            415F2 IL  ARTICULATED TRUCKS"
            ]
          },
          "metadata": {
            "tags": []
          },
          "execution_count": 78
        }
      ]
    },
    {
      "cell_type": "code",
      "metadata": {
        "id": "nwwpGe_FitqY",
        "colab_type": "code",
        "colab": {
          "base_uri": "https://localhost:8080/",
          "height": 34
        },
        "outputId": "8133cb53-e872-4b1f-87ee-0bcb5d1b5f0a"
      },
      "source": [
        "data.columns"
      ],
      "execution_count": 79,
      "outputs": [
        {
          "output_type": "execute_result",
          "data": {
            "text/plain": [
              "Index(['Product ID', 'Product Name', 'Category'], dtype='object')"
            ]
          },
          "metadata": {
            "tags": []
          },
          "execution_count": 79
        }
      ]
    },
    {
      "cell_type": "code",
      "metadata": {
        "id": "Bi1_YKaiiYiS",
        "colab_type": "code",
        "colab": {
          "base_uri": "https://localhost:8080/",
          "height": 102
        },
        "outputId": "8765ef90-cad0-4dff-8c23-60058f654a34"
      },
      "source": [
        "for i in range(0,data.shape[0]):\n",
        "  product_id = data['Product ID'][i]\n",
        "  product_name = data['Product Name'][i]\n",
        "  category = data['Category'][i]\n",
        "  #Product_ID, Product_Name, Category\n",
        "  data_row = {\"Product_ID\":product_id,\"Product_Name\":product_name,\"Category\":category}\n",
        "  data_row = json.dumps(data_row)\n",
        "  data_row = bytes(data_row, 'utf-8')\n",
        "  formatted_records = [{'PartitionKey': \"pk\",'Data': data_row}]\n",
        "  print(formatted_records)\n",
        "  delivery_stream_name = kinesis_data_stream_name\n",
        "  response = kinesis_delivery_client.put_records(StreamName=delivery_stream_name, Records=formatted_records)"
      ],
      "execution_count": 84,
      "outputs": [
        {
          "output_type": "stream",
          "text": [
            "[{'PartitionKey': 'pk', 'Data': b'{\"Product_ID\": \"P1\", \"Product_Name\": \"725C2 BARE CHASSIS\", \"Category\": \"ARTICULATED TRUCKS\"}'}]\n",
            "[{'PartitionKey': 'pk', 'Data': b'{\"Product_ID\": \"P2\", \"Product_Name\": \"730C2 BARE CHASSIS\", \"Category\": \"ARTICULATED TRUCKS\"}'}]\n",
            "[{'PartitionKey': 'pk', 'Data': b'{\"Product_ID\": \"P3\", \"Product_Name\": \"740 EJ\", \"Category\": \"ARTICULATED TRUCKS\"}'}]\n",
            "[{'PartitionKey': 'pk', 'Data': b'{\"Product_ID\": \"P4\", \"Product_Name\": \"415F2\", \"Category\": \"ARTICULATED TRUCKS\"}'}]\n",
            "[{'PartitionKey': 'pk', 'Data': b'{\"Product_ID\": \"P5\", \"Product_Name\": \"415F2 IL\", \"Category\": \"ARTICULATED TRUCKS\"}'}]\n"
          ],
          "name": "stdout"
        }
      ]
    },
    {
      "cell_type": "code",
      "metadata": {
        "id": "ndHSRPYDiYkx",
        "colab_type": "code",
        "colab": {
          "base_uri": "https://localhost:8080/",
          "height": 204
        },
        "outputId": "2cee417b-5848-4dcb-ce94-dd4d00a1d411"
      },
      "source": [
        "response"
      ],
      "execution_count": 85,
      "outputs": [
        {
          "output_type": "execute_result",
          "data": {
            "text/plain": [
              "{'FailedRecordCount': 0,\n",
              " 'Records': [{'SequenceNumber': '49597544726370028189063812412712857130553560848117268658',\n",
              "   'ShardId': 'shardId-000000000011'}],\n",
              " 'ResponseMetadata': {'HTTPHeaders': {'content-length': '146',\n",
              "   'content-type': 'application/x-amz-json-1.1',\n",
              "   'date': 'Fri, 12 Jul 2019 23:44:25 GMT',\n",
              "   'x-amz-id-2': 'GYM7ukF3PUmvIxHpG5FSdOObDr/J0NWD9cwgjkUB8xqgI3kzDUwGJRxsUzysHprzZoAP29jSXKf6sHYekd+7vYj9kM0NwU3i',\n",
              "   'x-amzn-requestid': 'fd838f59-c147-115d-a820-92c0314be0db'},\n",
              "  'HTTPStatusCode': 200,\n",
              "  'RequestId': 'fd838f59-c147-115d-a820-92c0314be0db',\n",
              "  'RetryAttempts': 0}}"
            ]
          },
          "metadata": {
            "tags": []
          },
          "execution_count": 85
        }
      ]
    },
    {
      "cell_type": "code",
      "metadata": {
        "id": "sRHnwRsIiYmu",
        "colab_type": "code",
        "colab": {}
      },
      "source": [
        ""
      ],
      "execution_count": 0,
      "outputs": []
    },
    {
      "cell_type": "code",
      "metadata": {
        "id": "14Cz3k91iYv_",
        "colab_type": "code",
        "colab": {}
      },
      "source": [
        ""
      ],
      "execution_count": 0,
      "outputs": []
    },
    {
      "cell_type": "code",
      "metadata": {
        "id": "uA5Knlc_iYyb",
        "colab_type": "code",
        "colab": {}
      },
      "source": [
        ""
      ],
      "execution_count": 0,
      "outputs": []
    },
    {
      "cell_type": "code",
      "metadata": {
        "colab_type": "code",
        "id": "90ZghlwWasbW",
        "outputId": "e16f6b74-63e6-4645-e11d-711009f60d3e",
        "colab": {
          "base_uri": "https://localhost:8080/",
          "height": 54
        }
      },
      "source": [
        "#Now we will demolish the complete architecture:\n",
        "\n",
        "#Delete Redshift Cluster:\n",
        "response_delete_redshift = redshift_client.delete_cluster(\n",
        "    ClusterIdentifier=cluster_identifier,\n",
        "    SkipFinalClusterSnapshot=True\n",
        ")\n",
        "\n",
        "print(response_delete_redshift)"
      ],
      "execution_count": 0,
      "outputs": [
        {
          "output_type": "stream",
          "text": [
            "{'Cluster': {'ClusterIdentifier': 'info7374clusterassignment1team6', 'NodeType': 'dc2.large', 'ClusterStatus': 'deleting', 'MasterUsername': 'root', 'DBName': 'info7374dbassignment1team6', 'Endpoint': {'Address': 'info7374clusterassignment1team6.c76nrcvogw31.us-east-1.redshift.amazonaws.com', 'Port': 5439}, 'ClusterCreateTime': datetime.datetime(2019, 7, 5, 20, 53, 17, 649000, tzinfo=tzlocal()), 'AutomatedSnapshotRetentionPeriod': 1, 'ManualSnapshotRetentionPeriod': -1, 'ClusterSecurityGroups': [], 'VpcSecurityGroups': [{'VpcSecurityGroupId': 'sg-7d4d2226', 'Status': 'active'}], 'ClusterParameterGroups': [{'ParameterGroupName': 'default.redshift-1.0', 'ParameterApplyStatus': 'in-sync'}], 'ClusterSubnetGroupName': 'default', 'VpcId': 'vpc-ad5030d7', 'AvailabilityZone': 'us-east-1a', 'PreferredMaintenanceWindow': 'fri:05:30-fri:06:00', 'PendingModifiedValues': {}, 'ClusterVersion': '1.0', 'AllowVersionUpgrade': True, 'NumberOfNodes': 1, 'PubliclyAccessible': True, 'Encrypted': False, 'Tags': [], 'EnhancedVpcRouting': False, 'IamRoles': [{'IamRoleArn': 'arn:aws:iam::237888173777:role/info7374roleassignment1team6', 'ApplyStatus': 'in-sync'}], 'MaintenanceTrackName': 'current', 'DeferredMaintenanceWindows': []}, 'ResponseMetadata': {'RequestId': 'b10d5016-9f6a-11e9-8a03-6944125feadb', 'HTTPStatusCode': 200, 'HTTPHeaders': {'x-amzn-requestid': 'b10d5016-9f6a-11e9-8a03-6944125feadb', 'content-type': 'text/xml', 'content-length': '2373', 'vary': 'Accept-Encoding', 'date': 'Fri, 05 Jul 2019 21:20:19 GMT'}, 'RetryAttempts': 0}}\n"
          ],
          "name": "stdout"
        }
      ]
    },
    {
      "cell_type": "code",
      "metadata": {
        "colab_type": "code",
        "id": "4V5fnwnIasbX",
        "outputId": "de87b1f5-fd68-4cea-c21b-2770a435af29",
        "colab": {
          "base_uri": "https://localhost:8080/",
          "height": 54
        }
      },
      "source": [
        "#Delete Kinesis Delivery stream:\n",
        "response_delete_firehose = firehose_client.delete_delivery_stream(DeliveryStreamName=delivery_stream_name)\n",
        "print(response_delete_firehose)"
      ],
      "execution_count": 0,
      "outputs": [
        {
          "output_type": "stream",
          "text": [
            "{'ResponseMetadata': {'RequestId': 'f265a551-6d0d-813c-a7fc-640707b935de', 'HTTPStatusCode': 200, 'HTTPHeaders': {'x-amzn-requestid': 'f265a551-6d0d-813c-a7fc-640707b935de', 'x-amz-id-2': 'xpdB5e+ZkGTJd61xO0kff6+DrZe3JsrpNXda5vzTlXWfnv3upWrM81CVQ303UAdRQ9vItH6AXwTzjTYjwmLpPoa2hZ5vdngt', 'content-type': 'application/x-amz-json-1.1', 'content-length': '2', 'date': 'Fri, 05 Jul 2019 21:20:21 GMT'}, 'RetryAttempts': 0}}\n"
          ],
          "name": "stdout"
        }
      ]
    },
    {
      "cell_type": "code",
      "metadata": {
        "colab_type": "code",
        "id": "gwo4EQQ6asba",
        "outputId": "13d48480-c126-46bf-f2e8-675930d8c5bc",
        "colab": {
          "base_uri": "https://localhost:8080/",
          "height": 54
        }
      },
      "source": [
        "#Delete Kinesis Data stream:\n",
        "response_delete_data_stream = kinesis_client.delete_stream(StreamName=kinesis_data_stream_name,EnforceConsumerDeletion=True)\n",
        "print(response_delete_data_stream)"
      ],
      "execution_count": 0,
      "outputs": [
        {
          "output_type": "stream",
          "text": [
            "{'ResponseMetadata': {'RequestId': 'dde266dd-bd64-b23e-887b-a78a9ebee03f', 'HTTPStatusCode': 200, 'HTTPHeaders': {'x-amzn-requestid': 'dde266dd-bd64-b23e-887b-a78a9ebee03f', 'x-amz-id-2': 'QfniCnWNQ/h4aupAlYE/Tf2gXnjxVFIPAZv6fm9kjO6A8qfkvCMY4r6naa85eVdtxBtxsWNaoY7g9Y5mD1MBalA5wge/HrSD', 'date': 'Fri, 5 Jul 2019 21:20:23 GMT', 'content-type': 'application/x-amz-json-1.1', 'content-length': '0'}, 'RetryAttempts': 0}}\n"
          ],
          "name": "stdout"
        }
      ]
    },
    {
      "cell_type": "code",
      "metadata": {
        "colab_type": "code",
        "id": "1qCU-N4Kasbc",
        "outputId": "8b0ef7af-7d3f-427f-a9da-2d745dd67067",
        "colab": {
          "base_uri": "https://localhost:8080/",
          "height": 34
        }
      },
      "source": [
        "#Delete S3 Bucket:\n",
        "\n",
        "#All of the Objects in a bucket must be deleted before the bucket itself can be deleted:\n",
        "\n",
        "s3 = boto3.resource('s3', aws_access_key_id = access_key, aws_secret_access_key = secret_access_key)\n",
        "bucket = s3.Bucket(bucket_name)\n",
        "\n",
        "for key in bucket.objects.all():\n",
        "    key.delete()\n",
        "bucket.delete()\n",
        "\n",
        "print(\"Bucket deleted successfully!\")"
      ],
      "execution_count": 0,
      "outputs": [
        {
          "output_type": "stream",
          "text": [
            "Bucket deleted successfully!\n"
          ],
          "name": "stdout"
        }
      ]
    },
    {
      "cell_type": "code",
      "metadata": {
        "colab_type": "code",
        "id": "otXHXtrIasbe",
        "colab": {}
      },
      "source": [
        "#Delete IAM Policy:\n",
        "\n"
      ],
      "execution_count": 0,
      "outputs": []
    },
    {
      "cell_type": "code",
      "metadata": {
        "colab_type": "code",
        "id": "EBLvZyLxasbg",
        "outputId": "3a76acd7-e1d5-401b-fd0d-24ab80b1e237",
        "colab": {
          "base_uri": "https://localhost:8080/",
          "height": 71
        }
      },
      "source": [
        "#Delete IAM Role:\n",
        "\n",
        "response_detach_policy = iam_client.detach_role_policy(PolicyArn=policy_arn,RoleName=iam_role_name)\n",
        "print(response_detach_policy)\n",
        "\n",
        "response_delete_role = iam_client.delete_role(RoleName=iam_role_name)\n",
        "print(response_delete_role)"
      ],
      "execution_count": 0,
      "outputs": [
        {
          "output_type": "stream",
          "text": [
            "{'ResponseMetadata': {'RequestId': 'b80ab56e-9f6a-11e9-a9e7-edf2f5f1aca7', 'HTTPStatusCode': 200, 'HTTPHeaders': {'x-amzn-requestid': 'b80ab56e-9f6a-11e9-a9e7-edf2f5f1aca7', 'content-type': 'text/xml', 'content-length': '212', 'date': 'Fri, 05 Jul 2019 21:20:31 GMT'}, 'RetryAttempts': 0}}\n",
            "{'ResponseMetadata': {'RequestId': 'b811e192-9f6a-11e9-a9e7-edf2f5f1aca7', 'HTTPStatusCode': 200, 'HTTPHeaders': {'x-amzn-requestid': 'b811e192-9f6a-11e9-a9e7-edf2f5f1aca7', 'content-type': 'text/xml', 'content-length': '200', 'date': 'Fri, 05 Jul 2019 21:20:31 GMT'}, 'RetryAttempts': 0}}\n"
          ],
          "name": "stdout"
        }
      ]
    },
    {
      "cell_type": "code",
      "metadata": {
        "colab_type": "code",
        "id": "Fr0cfX4basbi",
        "outputId": "b781b53b-2d34-46e1-ca26-81c04689773b",
        "colab": {
          "base_uri": "https://localhost:8080/",
          "height": 54
        }
      },
      "source": [
        "#Delete IAM Policy:\n",
        "\n",
        "response_delete_policy = iam_client.delete_policy(PolicyArn=policy_arn)\n",
        "print(response_delete_policy)"
      ],
      "execution_count": 0,
      "outputs": [
        {
          "output_type": "stream",
          "text": [
            "{'ResponseMetadata': {'RequestId': 'b98aed42-9f6a-11e9-a9e7-edf2f5f1aca7', 'HTTPStatusCode': 200, 'HTTPHeaders': {'x-amzn-requestid': 'b98aed42-9f6a-11e9-a9e7-edf2f5f1aca7', 'content-type': 'text/xml', 'content-length': '204', 'date': 'Fri, 05 Jul 2019 21:20:33 GMT'}, 'RetryAttempts': 0}}\n"
          ],
          "name": "stdout"
        }
      ]
    },
    {
      "cell_type": "code",
      "metadata": {
        "colab_type": "code",
        "id": "jv-1_F7iasbk",
        "colab": {}
      },
      "source": [
        ""
      ],
      "execution_count": 0,
      "outputs": []
    }
  ]
}